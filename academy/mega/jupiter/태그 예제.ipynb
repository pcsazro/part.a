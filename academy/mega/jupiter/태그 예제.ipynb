{
 "cells": [
  {
   "cell_type": "code",
   "execution_count": 2,
   "metadata": {},
   "outputs": [],
   "source": [
    "import sys"
   ]
  },
  {
   "cell_type": "code",
   "execution_count": 4,
   "metadata": {},
   "outputs": [],
   "source": [
    "import argparse"
   ]
  },
  {
   "cell_type": "code",
   "execution_count": 5,
   "metadata": {},
   "outputs": [],
   "source": [
    "import requests"
   ]
  },
  {
   "cell_type": "code",
   "execution_count": 6,
   "metadata": {},
   "outputs": [],
   "source": [
    "from collections import Counter"
   ]
  },
  {
   "cell_type": "code",
   "execution_count": 7,
   "metadata": {},
   "outputs": [],
   "source": [
    "API_URL = 'https://kapi.kakao.com/v1/vision/multitag/generate'\n",
    "MYAPP_KEY = '5b508e7c2d32ca2ac8a8fe3f083c36c7'"
   ]
  },
  {
   "cell_type": "code",
   "execution_count": 87,
   "metadata": {},
   "outputs": [],
   "source": [
    "sites = ['https://encrypted-tbn0.gstatic.com/images?q=tbn%3AANd9GcQEo1abQcgfdtgtRAsBuFL8iPJN2x20rmA4EA&usqp=CAU',\n",
    "       'https://file.mk.co.kr/meet/neds/2020/02/image_readtop_2020_110509_15807184814073799.jpg',\n",
    "       'https://images.france.fr/zeaejvyq9bhj/4jKuK6yobYMkGGQ4IO0Kk2/b77683922a8cca16afaa0d2028df39ad/savoie-mont-blanc-ete-header.jpg?w=1120&h=490&q=70&fl=progressive&fit=fill',\n",
    "       'https://m.media-amazon.com/images/I/81Qjo7C5GlL._SS500_.jpg',\n",
    "       'https://previews.123rf.com/images/isansky/isansky1511/isansky151100017/47425666-%EB%B0%94%EB%8B%A4-%ED%95%B4%EB%B3%80-%EB%B0%94%EB%8B%A4%EC%9E%85%EB%8B%88%EB%8B%A4-%EC%98%A4%ED%82%A4%EB%82%98%EC%99%80-%EC%9D%BC%EB%B3%B8-%EC%95%84%EC%8B%9C%EC%95%84-.jpg']"
   ]
  },
  {
   "cell_type": "code",
   "execution_count": 88,
   "metadata": {},
   "outputs": [],
   "source": [
    "parser = argparse.ArgumentParser(description='')"
   ]
  },
  {
   "cell_type": "code",
   "execution_count": 89,
   "metadata": {},
   "outputs": [
    {
     "data": {
      "text/plain": [
       "_StoreAction(option_strings=[], dest='image_url', nargs='?', const=None, default=['https://lh3.googleusercontent.com/proxy/-nlVHY6d0RW7V5ik9RPUeZnDo6Ov0GnotdNFIy33Wea9tFItt73wf9h7C7HflP5LUAMHsER8WiEs0jEMdWM4NMGeMkJe5HZkxAGJc333bOkGELRTnK0FPRbF75BpVBDNbupfKOOtz1CdkjUiIVVu23Tn', 'https://pds.joins.com/news/component/htmlphoto_mmdata/201102/10/htm_2011021022051100000010-001.JPG', 'https://img.hani.co.kr/imgdb/resize/2016/0422/146122207354_20160422.JPG', 'https://image.chosun.com/sitedata/image/201806/24/2018062401887_1.jpg', 'https://x-house.co.jp/wp/wp-content/uploads/2016/11/5171e7e174caa29c8987b507fc04b322-757x500.jpg'], type=<class 'str'>, choices=None, help=None, metavar=None)"
      ]
     },
     "execution_count": 89,
     "metadata": {},
     "output_type": "execute_result"
    }
   ],
   "source": [
    "parser.add_argument('image_url', type=str, nargs='?', default=site)"
   ]
  },
  {
   "cell_type": "markdown",
   "metadata": {},
   "source": [
    "# 위에서 설정한 대로 데이터를 생성"
   ]
  },
  {
   "cell_type": "code",
   "execution_count": 90,
   "metadata": {},
   "outputs": [
    {
     "name": "stderr",
     "output_type": "stream",
     "text": [
      "usage: ipykernel_launcher.py [-h] [image_url]\n",
      "ipykernel_launcher.py: error: unrecognized arguments: -f\n"
     ]
    },
    {
     "ename": "SystemExit",
     "evalue": "2",
     "output_type": "error",
     "traceback": [
      "An exception has occurred, use %tb to see the full traceback.\n",
      "\u001b[1;31mSystemExit\u001b[0m\u001b[1;31m:\u001b[0m 2\n"
     ]
    }
   ],
   "source": [
    "args = parser.parse_args()"
   ]
  },
  {
   "cell_type": "code",
   "execution_count": 92,
   "metadata": {},
   "outputs": [
    {
     "name": "stdout",
     "output_type": "stream",
     "text": [
      "b'{\"result\":{\"label\":[\"indoor\"],\"label_kr\":[\"\\xec\\x8b\\xa4\\xeb\\x82\\xb4\"]}}'\n",
      "\n",
      "{'label': ['indoor'], 'label_kr': ['실내']}\n",
      "['indoor']\n",
      "b'{\"result\":{\"label\":[\"furniture\",\"indoor\"],\"label_kr\":[\"\\xea\\xb0\\x80\\xea\\xb5\\xac\",\"\\xec\\x8b\\xa4\\xeb\\x82\\xb4\"]}}'\n",
      "\n",
      "{'label': ['furniture', 'indoor'], 'label_kr': ['가구', '실내']}\n",
      "['furniture', 'indoor']\n",
      "b'{\"result\":{\"label\":[\"outside\",\"mountain\",\"sky\"],\"label_kr\":[\"\\xec\\x8b\\xa4\\xec\\x99\\xb8\",\"\\xec\\x82\\xb0\",\"\\xed\\x95\\x98\\xeb\\x8a\\x98\"]}}'\n",
      "\n",
      "{'label': ['outside', 'mountain', 'sky'], 'label_kr': ['실외', '산', '하늘']}\n",
      "['outside', 'mountain', 'sky']\n",
      "b'{\"result\":{\"label\":[\"outside\"],\"label_kr\":[\"\\xec\\x8b\\xa4\\xec\\x99\\xb8\"]}}'\n",
      "\n",
      "{'label': ['outside'], 'label_kr': ['실외']}\n",
      "['outside']\n",
      "b'{\"result\":{\"label\":[\"outside\",\"beach\",\"sky\"],\"label_kr\":[\"\\xec\\x8b\\xa4\\xec\\x99\\xb8\",\"\\xed\\x95\\xb4\\xeb\\xb3\\x80\",\"\\xed\\x95\\x98\\xeb\\x8a\\x98\"]}}'\n",
      "\n",
      "{'label': ['outside', 'beach', 'sky'], 'label_kr': ['실외', '해변', '하늘']}\n",
      "['outside', 'beach', 'sky']\n"
     ]
    }
   ],
   "source": [
    "head = {'Authorization':'KakaoAK {}'.format(MYAPP_KEY)}\n",
    "\n",
    "\n",
    "for x in sites:\n",
    "    data = {'image_url':x}\n",
    "    result = requests.post(API_URL, headers=head, data=data)\n",
    "    print(result.content)\n",
    "    print()\n",
    "\n",
    "    json = result.json()\n",
    "    result_json = json['result']\n",
    "    print(result_json)\n",
    "\n",
    "    datas = result_json['label']\n",
    "    print(datas)"
   ]
  },
  {
   "cell_type": "code",
   "execution_count": null,
   "metadata": {},
   "outputs": [],
   "source": []
  }
 ],
 "metadata": {
  "kernelspec": {
   "display_name": "Python 3",
   "language": "python",
   "name": "python3"
  },
  "language_info": {
   "codemirror_mode": {
    "name": "ipython",
    "version": 3
   },
   "file_extension": ".py",
   "mimetype": "text/x-python",
   "name": "python",
   "nbconvert_exporter": "python",
   "pygments_lexer": "ipython3",
   "version": "3.7.4"
  }
 },
 "nbformat": 4,
 "nbformat_minor": 2
}
