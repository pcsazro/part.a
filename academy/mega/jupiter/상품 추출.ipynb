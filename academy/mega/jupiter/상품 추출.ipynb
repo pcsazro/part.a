{
 "cells": [
  {
   "cell_type": "code",
   "execution_count": 47,
   "metadata": {},
   "outputs": [],
   "source": [
    "import sys\n",
    "import argparse\n",
    "import requests\n",
    "from PIL import Image, ImageDraw, ImageFont\n",
    "from io import BytesIO"
   ]
  },
  {
   "cell_type": "code",
   "execution_count": 48,
   "metadata": {},
   "outputs": [],
   "source": [
    "API_URL = 'https://kapi.kakao.com/v1/vision/product/detect'\n",
    "MYAPP_KEY = '5b508e7c2d32ca2ac8a8fe3f083c36c7'"
   ]
  },
  {
   "cell_type": "code",
   "execution_count": 71,
   "metadata": {},
   "outputs": [
    {
     "name": "stdout",
     "output_type": "stream",
     "text": [
      "{'result': {'width': 500, 'height': 750, 'objects': [{'x1': 0.328, 'y1': 0.422667, 'x2': 0.56, 'y2': 0.885333, 'class': 'pants'}, {'x1': 0.47, 'y1': 0.838667, 'x2': 0.544, 'y2': 0.961333, 'class': 'shoes'}, {'x1': 0.406, 'y1': 0.869333, 'x2': 0.472, 'y2': 0.956, 'class': 'shoes'}, {'x1': 0.282, 'y1': 0.334667, 'x2': 0.506, 'y2': 0.464, 'class': 'tote bag'}, {'x1': 0.31, 'y1': 0.192, 'x2': 0.682, 'y2': 0.642667, 'class': 'outer'}]}}\n"
     ]
    }
   ],
   "source": [
    "def detect_product(image_url):\n",
    "    headers = {'Authorization': 'KakaoAK {}'.format(MYAPP_KEY)}\n",
    "\n",
    "    try:\n",
    "        data = { 'image_url' : image_url}\n",
    "        resp = requests.post(API_URL, headers=headers, data=data)\n",
    "        resp.raise_for_status()\n",
    "        return resp.json()\n",
    "    except Exception as e:\n",
    "        print(str(e))\n",
    "        sys.exit(0)\n",
    "\n",
    "def show_products(image_url, detection_result):\n",
    "    try:\n",
    "        image_resp = requests.get(image_url)\n",
    "        image_resp.raise_for_status()\n",
    "        file_jpgdata = BytesIO(image_resp.content)\n",
    "        image = Image.open(file_jpgdata)\n",
    "    except Exception as e:\n",
    "        print(str(e))\n",
    "        sys.exit(0)\n",
    "\n",
    "\n",
    "    draw = ImageDraw.Draw(image)\n",
    "    for obj in detection_result['result']['objects']:\n",
    "        x1 = int(obj['x1']*image.width)\n",
    "        y1 = int(obj['y1']*image.height)\n",
    "        x2 = int(obj['x2']*image.width)\n",
    "        y2 = int(obj['y2']*image.height)\n",
    "        draw.rectangle([(x1,y1), (x2, y2)], fill=None, outline=(255,0,0,255))\n",
    "        draw.text((x1+5,y1+5), obj['class'], (255,0,0))\n",
    "    del draw\n",
    "\n",
    "    return image\n",
    "\n",
    "if __name__ == \"__main__\":\n",
    "#     parser = argparse.ArgumentParser(description='Detect Products.')\n",
    "#     parser.add_argument('image_url', type=str, nargs='?',\n",
    "#         default=\"http://t1.daumcdn.net/alvolo/_vision/openapi/r2/images/06.jpg\",\n",
    "#         help='image url to show product\\'s rect')\n",
    "\n",
    "#     args = parser.parse_args()\n",
    "    image_url='https://www.isstime.co.kr/news/data/20141216/p179567428425990_495.jpg'\n",
    "    detection_result = detect_product(image_url)\n",
    "    print(detection_result)\n",
    "    image = show_products(image_url, detection_result)\n",
    "    \n",
    "    image.show()"
   ]
  },
  {
   "cell_type": "code",
   "execution_count": null,
   "metadata": {},
   "outputs": [],
   "source": []
  }
 ],
 "metadata": {
  "kernelspec": {
   "display_name": "Python 3",
   "language": "python",
   "name": "python3"
  },
  "language_info": {
   "codemirror_mode": {
    "name": "ipython",
    "version": 3
   },
   "file_extension": ".py",
   "mimetype": "text/x-python",
   "name": "python",
   "nbconvert_exporter": "python",
   "pygments_lexer": "ipython3",
   "version": "3.7.4"
  }
 },
 "nbformat": 4,
 "nbformat_minor": 2
}
