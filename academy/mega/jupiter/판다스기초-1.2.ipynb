{
 "cells": [
  {
   "cell_type": "code",
   "execution_count": 2,
   "metadata": {},
   "outputs": [],
   "source": [
    "import pandas as pd"
   ]
  },
  {
   "cell_type": "code",
   "execution_count": 3,
   "metadata": {},
   "outputs": [],
   "source": [
    "tab = pd.read_csv('data/gapminder.tsv', sep='\\t')"
   ]
  },
  {
   "cell_type": "code",
   "execution_count": 4,
   "metadata": {},
   "outputs": [
    {
     "data": {
      "text/html": [
       "<div>\n",
       "<style scoped>\n",
       "    .dataframe tbody tr th:only-of-type {\n",
       "        vertical-align: middle;\n",
       "    }\n",
       "\n",
       "    .dataframe tbody tr th {\n",
       "        vertical-align: top;\n",
       "    }\n",
       "\n",
       "    .dataframe thead th {\n",
       "        text-align: right;\n",
       "    }\n",
       "</style>\n",
       "<table border=\"1\" class=\"dataframe\">\n",
       "  <thead>\n",
       "    <tr style=\"text-align: right;\">\n",
       "      <th></th>\n",
       "      <th>country</th>\n",
       "      <th>continent</th>\n",
       "      <th>year</th>\n",
       "      <th>lifeExp</th>\n",
       "      <th>pop</th>\n",
       "      <th>gdpPercap</th>\n",
       "    </tr>\n",
       "  </thead>\n",
       "  <tbody>\n",
       "    <tr>\n",
       "      <td>840</td>\n",
       "      <td>Korea, Rep.</td>\n",
       "      <td>Asia</td>\n",
       "      <td>1952</td>\n",
       "      <td>47.453</td>\n",
       "      <td>20947571</td>\n",
       "      <td>1030.592226</td>\n",
       "    </tr>\n",
       "    <tr>\n",
       "      <td>841</td>\n",
       "      <td>Korea, Rep.</td>\n",
       "      <td>Asia</td>\n",
       "      <td>1957</td>\n",
       "      <td>52.681</td>\n",
       "      <td>22611552</td>\n",
       "      <td>1487.593537</td>\n",
       "    </tr>\n",
       "    <tr>\n",
       "      <td>842</td>\n",
       "      <td>Korea, Rep.</td>\n",
       "      <td>Asia</td>\n",
       "      <td>1962</td>\n",
       "      <td>55.292</td>\n",
       "      <td>26420307</td>\n",
       "      <td>1536.344387</td>\n",
       "    </tr>\n",
       "    <tr>\n",
       "      <td>843</td>\n",
       "      <td>Korea, Rep.</td>\n",
       "      <td>Asia</td>\n",
       "      <td>1967</td>\n",
       "      <td>57.716</td>\n",
       "      <td>30131000</td>\n",
       "      <td>2029.228142</td>\n",
       "    </tr>\n",
       "    <tr>\n",
       "      <td>844</td>\n",
       "      <td>Korea, Rep.</td>\n",
       "      <td>Asia</td>\n",
       "      <td>1972</td>\n",
       "      <td>62.612</td>\n",
       "      <td>33505000</td>\n",
       "      <td>3030.876650</td>\n",
       "    </tr>\n",
       "    <tr>\n",
       "      <td>845</td>\n",
       "      <td>Korea, Rep.</td>\n",
       "      <td>Asia</td>\n",
       "      <td>1977</td>\n",
       "      <td>64.766</td>\n",
       "      <td>36436000</td>\n",
       "      <td>4657.221020</td>\n",
       "    </tr>\n",
       "    <tr>\n",
       "      <td>846</td>\n",
       "      <td>Korea, Rep.</td>\n",
       "      <td>Asia</td>\n",
       "      <td>1982</td>\n",
       "      <td>67.123</td>\n",
       "      <td>39326000</td>\n",
       "      <td>5622.942464</td>\n",
       "    </tr>\n",
       "    <tr>\n",
       "      <td>847</td>\n",
       "      <td>Korea, Rep.</td>\n",
       "      <td>Asia</td>\n",
       "      <td>1987</td>\n",
       "      <td>69.810</td>\n",
       "      <td>41622000</td>\n",
       "      <td>8533.088805</td>\n",
       "    </tr>\n",
       "    <tr>\n",
       "      <td>848</td>\n",
       "      <td>Korea, Rep.</td>\n",
       "      <td>Asia</td>\n",
       "      <td>1992</td>\n",
       "      <td>72.244</td>\n",
       "      <td>43805450</td>\n",
       "      <td>12104.278720</td>\n",
       "    </tr>\n",
       "    <tr>\n",
       "      <td>849</td>\n",
       "      <td>Korea, Rep.</td>\n",
       "      <td>Asia</td>\n",
       "      <td>1997</td>\n",
       "      <td>74.647</td>\n",
       "      <td>46173816</td>\n",
       "      <td>15993.527960</td>\n",
       "    </tr>\n",
       "    <tr>\n",
       "      <td>850</td>\n",
       "      <td>Korea, Rep.</td>\n",
       "      <td>Asia</td>\n",
       "      <td>2002</td>\n",
       "      <td>77.045</td>\n",
       "      <td>47969150</td>\n",
       "      <td>19233.988180</td>\n",
       "    </tr>\n",
       "    <tr>\n",
       "      <td>851</td>\n",
       "      <td>Korea, Rep.</td>\n",
       "      <td>Asia</td>\n",
       "      <td>2007</td>\n",
       "      <td>78.623</td>\n",
       "      <td>49044790</td>\n",
       "      <td>23348.139730</td>\n",
       "    </tr>\n",
       "  </tbody>\n",
       "</table>\n",
       "</div>"
      ],
      "text/plain": [
       "         country continent  year  lifeExp       pop     gdpPercap\n",
       "840  Korea, Rep.      Asia  1952   47.453  20947571   1030.592226\n",
       "841  Korea, Rep.      Asia  1957   52.681  22611552   1487.593537\n",
       "842  Korea, Rep.      Asia  1962   55.292  26420307   1536.344387\n",
       "843  Korea, Rep.      Asia  1967   57.716  30131000   2029.228142\n",
       "844  Korea, Rep.      Asia  1972   62.612  33505000   3030.876650\n",
       "845  Korea, Rep.      Asia  1977   64.766  36436000   4657.221020\n",
       "846  Korea, Rep.      Asia  1982   67.123  39326000   5622.942464\n",
       "847  Korea, Rep.      Asia  1987   69.810  41622000   8533.088805\n",
       "848  Korea, Rep.      Asia  1992   72.244  43805450  12104.278720\n",
       "849  Korea, Rep.      Asia  1997   74.647  46173816  15993.527960\n",
       "850  Korea, Rep.      Asia  2002   77.045  47969150  19233.988180\n",
       "851  Korea, Rep.      Asia  2007   78.623  49044790  23348.139730"
      ]
     },
     "execution_count": 4,
     "metadata": {},
     "output_type": "execute_result"
    }
   ],
   "source": [
    "kor = tab.loc[840:851]\n",
    "kor"
   ]
  },
  {
   "cell_type": "code",
   "execution_count": 6,
   "metadata": {},
   "outputs": [],
   "source": [
    "%matplotlib inline\n",
    "import matplotlib.pyplot as plt"
   ]
  },
  {
   "cell_type": "code",
   "execution_count": 7,
   "metadata": {},
   "outputs": [
    {
     "data": {
      "text/plain": [
       "<matplotlib.axes._subplots.AxesSubplot at 0x27a7707eb48>"
      ]
     },
     "execution_count": 7,
     "metadata": {},
     "output_type": "execute_result"
    },
    {
     "data": {
      "image/png": "[encoded data removed]",
      "text/plain": [
       "<Figure size 432x288 with 1 Axes>"
      ]
     },
     "metadata": {
      "needs_background": "light"
     },
     "output_type": "display_data"
    }
   ],
   "source": [
    "kor.plot('year','gdpPercap')"
   ]
  },
  {
   "cell_type": "code",
   "execution_count": null,
   "metadata": {},
   "outputs": [],
   "source": []
  }
 ],
 "metadata": {
  "kernelspec": {
   "display_name": "Python 3",
   "language": "python",
   "name": "python3"
  },
  "language_info": {
   "codemirror_mode": {
    "name": "ipython",
    "version": 3
   },
   "file_extension": ".py",
   "mimetype": "text/x-python",
   "name": "python",
   "nbconvert_exporter": "python",
   "pygments_lexer": "ipython3",
   "version": "3.7.4"
  }
 },
 "nbformat": 4,
 "nbformat_minor": 2
}
